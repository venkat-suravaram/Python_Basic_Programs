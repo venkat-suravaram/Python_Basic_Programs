{
 "cells": [
  {
   "cell_type": "code",
   "execution_count": 35,
   "id": "103c630b",
   "metadata": {},
   "outputs": [
    {
     "name": "stdout",
     "output_type": "stream",
     "text": [
      "given numbers:  [2, 3, 4, 5, 5, 6]\n",
      "matching found\n"
     ]
    }
   ],
   "source": [
    "#Write a Python function that takes a sequence of numbers and determines whether all the numbers are different from each other.\n",
    "\n",
    "def func_match(l):\n",
    "    print(\"given numbers: \",l)\n",
    "    i=0\n",
    "    j=1\n",
    "    flag=0\n",
    "    flag2=0\n",
    "    for k in l:\n",
    "        if l[i] == l[j]:\n",
    "            #print(\"matching number found in \",l[i],l[j])\n",
    "            flag=1\n",
    "            \n",
    "        else:\n",
    "            #print(\"No matching found in \",l)\n",
    "            flag2=0\n",
    "            i=i+1\n",
    "            j=j+1\n",
    "    if flag==1:\n",
    "        print(\"matching found\")\n",
    "    else:\n",
    "        print(\"no matching found\")\n",
    "\n",
    "        \n",
    "func_match([2,3,4,5,5,6])"
   ]
  },
  {
   "cell_type": "code",
   "execution_count": 37,
   "id": "879d7b56",
   "metadata": {},
   "outputs": [
    {
     "name": "stdout",
     "output_type": "stream",
     "text": [
      "['a', 'o', 'e', 'i', 'u']\n"
     ]
    }
   ],
   "source": [
    "#Write a Python program to create all possible strings by using 'a', 'e', 'i', 'o', 'u'. Use the characters exactly once\n",
    "import random\n",
    "\n",
    "mylist = ['a','e','i','o','u']\n",
    "random.shuffle(mylist)\n",
    "\n",
    "print(mylist)"
   ]
  },
  {
   "cell_type": "code",
   "execution_count": 47,
   "id": "1ba41550",
   "metadata": {},
   "outputs": [
    {
     "name": "stdout",
     "output_type": "stream",
     "text": [
      "current 3rd element:  5\n",
      "Lenght of numbers:  7\n",
      "current 3rd element:  6\n",
      "Lenght of numbers:  6\n",
      "current 3rd element:  7\n",
      "Lenght of numbers:  5\n",
      "current 3rd element:  8\n",
      "Lenght of numbers:  4\n",
      "current 3rd element:  9\n",
      "Lenght of numbers:  3\n"
     ]
    },
    {
     "ename": "IndexError",
     "evalue": "list index out of range",
     "output_type": "error",
     "traceback": [
      "\u001b[1;31m---------------------------------------------------------------------------\u001b[0m",
      "\u001b[1;31mIndexError\u001b[0m                                Traceback (most recent call last)",
      "\u001b[1;32m~\\AppData\\Local\\Temp\\ipykernel_13792\\588672211.py\u001b[0m in \u001b[0;36m<module>\u001b[1;34m\u001b[0m\n\u001b[0;32m      2\u001b[0m \u001b[0ml\u001b[0m\u001b[1;33m=\u001b[0m\u001b[1;33m[\u001b[0m\u001b[1;36m3\u001b[0m\u001b[1;33m,\u001b[0m\u001b[1;36m4\u001b[0m\u001b[1;33m,\u001b[0m\u001b[1;36m5\u001b[0m\u001b[1;33m,\u001b[0m\u001b[1;36m6\u001b[0m\u001b[1;33m,\u001b[0m\u001b[1;36m7\u001b[0m\u001b[1;33m,\u001b[0m\u001b[1;36m8\u001b[0m\u001b[1;33m,\u001b[0m\u001b[1;36m9\u001b[0m\u001b[1;33m]\u001b[0m\u001b[1;33m\u001b[0m\u001b[1;33m\u001b[0m\u001b[0m\n\u001b[0;32m      3\u001b[0m \u001b[1;32mwhile\u001b[0m \u001b[0mlen\u001b[0m\u001b[1;33m(\u001b[0m\u001b[0ml\u001b[0m\u001b[1;33m)\u001b[0m \u001b[1;33m!=\u001b[0m \u001b[1;36m0\u001b[0m\u001b[1;33m:\u001b[0m\u001b[1;33m\u001b[0m\u001b[1;33m\u001b[0m\u001b[0m\n\u001b[1;32m----> 4\u001b[1;33m     \u001b[0mprint\u001b[0m\u001b[1;33m(\u001b[0m\u001b[1;34m\"current 3rd element: \"\u001b[0m\u001b[1;33m,\u001b[0m \u001b[0ml\u001b[0m\u001b[1;33m[\u001b[0m\u001b[1;36m2\u001b[0m\u001b[1;33m]\u001b[0m\u001b[1;33m)\u001b[0m\u001b[1;33m\u001b[0m\u001b[1;33m\u001b[0m\u001b[0m\n\u001b[0m\u001b[0;32m      5\u001b[0m     \u001b[0mprint\u001b[0m\u001b[1;33m(\u001b[0m\u001b[1;34m\"Lenght of numbers: \"\u001b[0m\u001b[1;33m,\u001b[0m \u001b[0mlen\u001b[0m\u001b[1;33m(\u001b[0m\u001b[0ml\u001b[0m\u001b[1;33m)\u001b[0m\u001b[1;33m)\u001b[0m\u001b[1;33m\u001b[0m\u001b[1;33m\u001b[0m\u001b[0m\n\u001b[0;32m      6\u001b[0m     \u001b[0ml\u001b[0m\u001b[1;33m.\u001b[0m\u001b[0mremove\u001b[0m\u001b[1;33m(\u001b[0m\u001b[0ml\u001b[0m\u001b[1;33m[\u001b[0m\u001b[1;36m2\u001b[0m\u001b[1;33m]\u001b[0m\u001b[1;33m)\u001b[0m\u001b[1;33m\u001b[0m\u001b[1;33m\u001b[0m\u001b[0m\n",
      "\u001b[1;31mIndexError\u001b[0m: list index out of range"
     ]
    }
   ],
   "source": [
    "#Write a Python program to remove and print every third number from a list of numbers until the list becomes empty.\n",
    "l=[3,4,5,6,7,8,9]\n",
    "while len(l) != 0:\n",
    "    print(\"current 3rd element: \", l[2])\n",
    "    print(\"Lenght of numbers: \", len(l))\n",
    "    l.remove(l[2])"
   ]
  },
  {
   "cell_type": "code",
   "execution_count": null,
   "id": "828fe4bb",
   "metadata": {},
   "outputs": [],
   "source": []
  },
  {
   "cell_type": "code",
   "execution_count": null,
   "id": "5fadc8da",
   "metadata": {},
   "outputs": [],
   "source": []
  }
 ],
 "metadata": {
  "kernelspec": {
   "display_name": "Python 3 (ipykernel)",
   "language": "python",
   "name": "python3"
  },
  "language_info": {
   "codemirror_mode": {
    "name": "ipython",
    "version": 3
   },
   "file_extension": ".py",
   "mimetype": "text/x-python",
   "name": "python",
   "nbconvert_exporter": "python",
   "pygments_lexer": "ipython3",
   "version": "3.9.13"
  }
 },
 "nbformat": 4,
 "nbformat_minor": 5
}
