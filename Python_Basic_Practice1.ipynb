{
 "cells": [
  {
   "cell_type": "code",
   "execution_count": 3,
   "id": "ad4f379d",
   "metadata": {},
   "outputs": [
    {
     "data": {
      "text/plain": [
       "'C:\\\\Users\\\\vsura\\\\Jupyter_Workspace'"
      ]
     },
     "execution_count": 3,
     "metadata": {},
     "output_type": "execute_result"
    }
   ],
   "source": [
    "#Get current directory\n",
    "import os\n",
    "os.getcwd()"
   ]
  },
  {
   "cell_type": "code",
   "execution_count": 5,
   "id": "553c96bb",
   "metadata": {},
   "outputs": [
    {
     "data": {
      "text/plain": [
       "sys.version_info(major=3, minor=9, micro=13, releaselevel='final', serial=0)"
      ]
     },
     "execution_count": 5,
     "metadata": {},
     "output_type": "execute_result"
    }
   ],
   "source": [
    "#Get Version details\n",
    "import sys\n",
    "sys.version\n",
    "sys.version_info"
   ]
  },
  {
   "cell_type": "code",
   "execution_count": 6,
   "id": "93fa40fc",
   "metadata": {},
   "outputs": [
    {
     "data": {
      "text/plain": [
       "'3.9.13'"
      ]
     },
     "execution_count": 6,
     "metadata": {},
     "output_type": "execute_result"
    }
   ],
   "source": [
    "#Get version details\n",
    "import platform\n",
    "platform.python_version()"
   ]
  },
  {
   "cell_type": "code",
   "execution_count": 11,
   "id": "de1d4627",
   "metadata": {},
   "outputs": [
    {
     "data": {
      "text/plain": [
       "'2022-12-26 22:47:18'"
      ]
     },
     "execution_count": 11,
     "metadata": {},
     "output_type": "execute_result"
    }
   ],
   "source": [
    "#Print current datetime\n",
    "import datetime\n",
    "x=datetime.datetime.now()\n",
    "x.strftime(\"%Y-%m-%d %H:%M:%S\")"
   ]
  },
  {
   "cell_type": "code",
   "execution_count": 19,
   "id": "218c219f",
   "metadata": {},
   "outputs": [
    {
     "name": "stdout",
     "output_type": "stream",
     "text": [
      "Enter user firstname: firstname\n",
      "Enter user Last Name: lastname\n",
      "<class 'str'> <class 'str'>\n",
      "Users First name & Last name in reverse:  emantsrif   emantsal\n"
     ]
    }
   ],
   "source": [
    "# Accept user FIRSTNAME and LASTName and print in reverse order\n",
    "fname=input(\"Enter user firstname: \")\n",
    "lname=input (\"Enter user Last Name: \")\n",
    "\n",
    "print(type(fname),type(lname))\n",
    "print(\"Users First name & Last name in reverse: \",fname[::-1],\" \", lname[::-1])\n"
   ]
  },
  {
   "cell_type": "code",
   "execution_count": 21,
   "id": "0b04086f",
   "metadata": {},
   "outputs": [
    {
     "name": "stdout",
     "output_type": "stream",
     "text": [
      "enter numbers with comma seperated: 12,23,34,45,56\n",
      "<class 'str'>\n",
      "['12', '23', '34', '45', '56']\n",
      "('12', '23', '34', '45', '56')\n"
     ]
    }
   ],
   "source": [
    "# Accept comma seperated numbers and disply as LIST / TUPLE\n",
    "string=input(\"enter numbers with comma seperated: \")\n",
    "print(type(string))\n",
    "\n",
    "l=list(string.split(\",\"))\n",
    "print(l)\n",
    "t=tuple(string.rsplit(\",\"))\n",
    "print(t)"
   ]
  },
  {
   "cell_type": "code",
   "execution_count": 29,
   "id": "43feabba",
   "metadata": {},
   "outputs": [
    {
     "name": "stdout",
     "output_type": "stream",
     "text": [
      "Enter file name with extention: file.java\n",
      "file name extension:  java\n"
     ]
    }
   ],
   "source": [
    "#Accept file name from the user and print the extention of the input file name\n",
    "fname=input(\"Enter file name with extention: \")\n",
    "print(\"file name extension: \", fname[fname.index(\".\")+1:])"
   ]
  },
  {
   "cell_type": "code",
   "execution_count": 31,
   "id": "5644ae0b",
   "metadata": {},
   "outputs": [
    {
     "name": "stdout",
     "output_type": "stream",
     "text": [
      "First element:  Red \n",
      " Last element:  Black\n"
     ]
    }
   ],
   "source": [
    "# display the first and last colors from the following list\n",
    "color_list = [\"Red\",\"Green\",\"White\" ,\"Black\"]\n",
    "#print(len(color_list))\n",
    "print(\"First element: \",color_list[0], \"\\n Last element: \",color_list[len(color_list)-1])\n",
    "\n"
   ]
  },
  {
   "cell_type": "code",
   "execution_count": 34,
   "id": "73ce54b2",
   "metadata": {},
   "outputs": [
    {
     "name": "stdout",
     "output_type": "stream",
     "text": [
      "<class 'tuple'>\n",
      "Examination Schedule: 11 / 12 / 2014\n"
     ]
    }
   ],
   "source": [
    "# Write a Python program to display the examination schedule. (extract the date from exam_st_date)\n",
    "exam_st_date = (11, 12, 2014)\n",
    "print(type(exam_st_date))\n",
    "print(\"Examination Schedule: %i / %i / %i\"%exam_st_date)\n"
   ]
  },
  {
   "cell_type": "code",
   "execution_count": 36,
   "id": "1d3488e4",
   "metadata": {},
   "outputs": [
    {
     "name": "stdout",
     "output_type": "stream",
     "text": [
      "Result=  615\n"
     ]
    }
   ],
   "source": [
    "#Write a Python program that accepts an integer (n) and computes the value of n+nn+nnn\n",
    "n=5\n",
    "n1=int(\"%i\"%n)\n",
    "n2=int(\"%i%i\"%(n,n))\n",
    "n3=int(\"%i%i%i\"%(n,n,n))\n",
    "print(\"Result= \",n1+n2+n3)\n",
    "\n"
   ]
  },
  {
   "cell_type": "code",
   "execution_count": 38,
   "id": "ec06b455",
   "metadata": {},
   "outputs": [
    {
     "name": "stdout",
     "output_type": "stream",
     "text": [
      "Return the absolute value of the argument.\n"
     ]
    }
   ],
   "source": [
    "# Write a Python program to print the documents (syntax, description etc.) of Python built-in function(s).\n",
    "print(abs.__doc__)"
   ]
  },
  {
   "cell_type": "code",
   "execution_count": 43,
   "id": "7896954f",
   "metadata": {},
   "outputs": [
    {
     "name": "stdout",
     "output_type": "stream",
     "text": [
      "   December 2022\n",
      "Mo Tu We Th Fr Sa Su\n",
      "          1  2  3  4\n",
      " 5  6  7  8  9 10 11\n",
      "12 13 14 15 16 17 18\n",
      "19 20 21 22 23 24 25\n",
      "26 27 28 29 30 31\n",
      "\n"
     ]
    }
   ],
   "source": [
    "# Get calander of a month\n",
    "import calendar\n",
    "a=calendar.month(2022,12)\n",
    "print(a)\n"
   ]
  },
  {
   "cell_type": "code",
   "execution_count": 46,
   "id": "f2844d85",
   "metadata": {},
   "outputs": [
    {
     "name": "stdout",
     "output_type": "stream",
     "text": [
      "date difference:  0 0 9\n"
     ]
    }
   ],
   "source": [
    "# Write a Python program to calculate number of days between two dates.\n",
    "#Sample dates : (2014, 7, 2), (2014, 7, 11)\n",
    "date1=(2014, 7, 2)\n",
    "date2= (2014, 7, 11)\n",
    "\n",
    "y=date2[0]-date1[0]\n",
    "m=date2[1]-date1[1]\n",
    "d=date2[2]-date1[2]\n",
    "print(\"date difference: \",y , m , d)"
   ]
  },
  {
   "cell_type": "code",
   "execution_count": 47,
   "id": "0d9200c3",
   "metadata": {},
   "outputs": [
    {
     "name": "stdout",
     "output_type": "stream",
     "text": [
      "Days difference:  9\n"
     ]
    }
   ],
   "source": [
    "# Write a Python program to calculate number of days between two dates.\n",
    "#Sample dates : (2014, 7, 2), (2014, 7, 11)\n",
    "import datetime\n",
    "f_date=datetime.date(2014, 7, 2)\n",
    "l_date=datetime.date(2014, 7, 11)\n",
    "daydiff=l_date - f_date\n",
    "print(\"Days difference: \", daydiff.days)"
   ]
  },
  {
   "cell_type": "code",
   "execution_count": 48,
   "id": "d094d750",
   "metadata": {},
   "outputs": [
    {
     "name": "stdout",
     "output_type": "stream",
     "text": [
      "Result of  22  is :  10\n",
      "Result of  10  is :  7\n"
     ]
    }
   ],
   "source": [
    "# Write a Python program to get the difference between a given number and 17, if the number is greater than 17 return double the absolute difference\n",
    "\n",
    "def func1(a):\n",
    "    if a>17:\n",
    "        result=(a-17)*2\n",
    "        print(\"Result of \",a,\" is : \",result)\n",
    "    else:\n",
    "        result = 17-a\n",
    "        print(\"Result of \",a,\" is : \",result)\n",
    "\n",
    "func1(22)\n",
    "func1(10)\n"
   ]
  },
  {
   "cell_type": "code",
   "execution_count": 51,
   "id": "f5330a45",
   "metadata": {},
   "outputs": [
    {
     "name": "stdout",
     "output_type": "stream",
     "text": [
      "6\n",
      "27\n"
     ]
    }
   ],
   "source": [
    "#Write a Python program to calculate the sum of three given numbers, if the values are equal then return three times of their sum\n",
    "\n",
    "def sumfunc(x,y,z):\n",
    "    sum=x+y+z\n",
    "    if x ==y==z:\n",
    "        sum=sum*3\n",
    "    return sum\n",
    "print(sumfunc(1,2,3))\n",
    "print(sumfunc(3,3,3))"
   ]
  },
  {
   "cell_type": "code",
   "execution_count": 54,
   "id": "220179b0",
   "metadata": {},
   "outputs": [
    {
     "name": "stdout",
     "output_type": "stream",
     "text": [
      "Is everything fine?\n",
      "Is  everything fine?\n"
     ]
    }
   ],
   "source": [
    "# Write a Python program to get a new string from a given string where \"Is\" has been added to the front. \n",
    "# If the given string already begins with \"Is\" then return the string unchanged\n",
    "\n",
    "def stringfun(string):\n",
    "    if \"Is \" in string:\n",
    "        print (string)\n",
    "    else:\n",
    "        print(\"Is \",string)\n",
    "\n",
    "stringfun(\"Is everything fine?\")\n",
    "stringfun(\"everything fine?\")"
   ]
  },
  {
   "cell_type": "code",
   "execution_count": 76,
   "id": "5f8d16e7",
   "metadata": {},
   "outputs": [
    {
     "name": "stdout",
     "output_type": "stream",
     "text": [
      "0\n",
      "Is everything fine?\n"
     ]
    },
    {
     "ename": "ValueError",
     "evalue": "substring not found",
     "output_type": "error",
     "traceback": [
      "\u001b[1;31m---------------------------------------------------------------------------\u001b[0m",
      "\u001b[1;31mValueError\u001b[0m                                Traceback (most recent call last)",
      "\u001b[1;32m~\\AppData\\Local\\Temp\\ipykernel_13504\\1931342400.py\u001b[0m in \u001b[0;36m<module>\u001b[1;34m\u001b[0m\n\u001b[0;32m     11\u001b[0m \u001b[1;33m\u001b[0m\u001b[0m\n\u001b[0;32m     12\u001b[0m \u001b[0mstringfun\u001b[0m\u001b[1;33m(\u001b[0m\u001b[1;34m\"Is everything fine?\"\u001b[0m\u001b[1;33m)\u001b[0m\u001b[1;33m\u001b[0m\u001b[1;33m\u001b[0m\u001b[0m\n\u001b[1;32m---> 13\u001b[1;33m \u001b[0mstringfun\u001b[0m\u001b[1;33m(\u001b[0m\u001b[1;34m\"everything fine? ---2nd\"\u001b[0m\u001b[1;33m)\u001b[0m\u001b[1;33m\u001b[0m\u001b[1;33m\u001b[0m\u001b[0m\n\u001b[0m",
      "\u001b[1;32m~\\AppData\\Local\\Temp\\ipykernel_13504\\1931342400.py\u001b[0m in \u001b[0;36mstringfun\u001b[1;34m(s)\u001b[0m\n\u001b[0;32m      3\u001b[0m \u001b[1;33m\u001b[0m\u001b[0m\n\u001b[0;32m      4\u001b[0m \u001b[1;32mdef\u001b[0m \u001b[0mstringfun\u001b[0m\u001b[1;33m(\u001b[0m\u001b[0ms\u001b[0m\u001b[1;33m)\u001b[0m\u001b[1;33m:\u001b[0m\u001b[1;33m\u001b[0m\u001b[1;33m\u001b[0m\u001b[0m\n\u001b[1;32m----> 5\u001b[1;33m     \u001b[0mcheck\u001b[0m\u001b[1;33m=\u001b[0m\u001b[0ms\u001b[0m\u001b[1;33m.\u001b[0m\u001b[0mindex\u001b[0m\u001b[1;33m(\u001b[0m\u001b[1;34m'Is'\u001b[0m\u001b[1;33m)\u001b[0m\u001b[1;33m\u001b[0m\u001b[1;33m\u001b[0m\u001b[0m\n\u001b[0m\u001b[0;32m      6\u001b[0m     \u001b[0mprint\u001b[0m \u001b[1;33m(\u001b[0m\u001b[0mcheck\u001b[0m\u001b[1;33m)\u001b[0m\u001b[1;33m\u001b[0m\u001b[1;33m\u001b[0m\u001b[0m\n\u001b[0;32m      7\u001b[0m     \u001b[1;32mif\u001b[0m  \u001b[0mcheck\u001b[0m \u001b[1;33m==\u001b[0m \u001b[1;36m0\u001b[0m\u001b[1;33m:\u001b[0m\u001b[1;33m\u001b[0m\u001b[1;33m\u001b[0m\u001b[0m\n",
      "\u001b[1;31mValueError\u001b[0m: substring not found"
     ]
    }
   ],
   "source": [
    "# Write a Python program to get a new string from a given string where \"Is\" has been added to the front. \n",
    "# If the given string already begins with \"Is\" then return the string unchanged\n",
    "\n",
    "def stringfun(s):\n",
    "    check=s.index('Is')\n",
    "    print (check)\n",
    "    if  check == 0:\n",
    "        print (s)\n",
    "    else:\n",
    "        print(\"Is \",s)\n",
    "\n",
    "stringfun(\"Is everything fine?\")\n",
    "stringfun(\"everything fine? ---2nd\")"
   ]
  },
  {
   "cell_type": "code",
   "execution_count": 5,
   "id": "c5d1e7ce",
   "metadata": {},
   "outputs": [
    {
     "name": "stdout",
     "output_type": "stream",
     "text": [
      "result\n",
      "result\n",
      "result\n"
     ]
    }
   ],
   "source": [
    "# Write a Python program to get a string which is n (non-negative integer) copies of a given string\n",
    "sting=\"Hello Mr.\"\n",
    "Nfcopies=int(3)\n",
    "i=1\n",
    "result=\"\"\n",
    "while i <=Nfcopies:\n",
    "    i=i+1\n",
    "    result=result+sting\n",
    "    \n",
    "    print(\"result\")"
   ]
  },
  {
   "cell_type": "code",
   "execution_count": 10,
   "id": "1702efdc",
   "metadata": {},
   "outputs": [
    {
     "name": "stdout",
     "output_type": "stream",
     "text": [
      "Given number is Odd\n",
      "Given number is even\n"
     ]
    }
   ],
   "source": [
    "# Find given number even or odd\n",
    "\n",
    "def testnum(num):\n",
    "    if num %2 ==0:\n",
    "        print(\"Given number is even\")\n",
    "    else:\n",
    "        print(\"Given number is Odd\")\n",
    "\n",
    "testnum(23)\n",
    "testnum(12)    "
   ]
  },
  {
   "cell_type": "code",
   "execution_count": 19,
   "id": "2ffe7b8a",
   "metadata": {},
   "outputs": [
    {
     "name": "stdout",
     "output_type": "stream",
     "text": [
      "4  found  2  times. \n"
     ]
    }
   ],
   "source": [
    "# count the number 4 in a given list\n",
    "l=[1,2,3,4,1,2,3,4,5]\n",
    "count=0\n",
    "num=4\n",
    "for i in l:\n",
    "    if i==num:\n",
    "        count=count+1\n",
    "print( num,\" found \",count,\" times. \")\n",
    "    "
   ]
  },
  {
   "cell_type": "code",
   "execution_count": 18,
   "id": "2608a66f",
   "metadata": {},
   "outputs": [
    {
     "name": "stdout",
     "output_type": "stream",
     "text": [
      "HeHeHeHe\n",
      "Hi\n"
     ]
    }
   ],
   "source": [
    "# get the n (non-negative integer) copies of the first 2 characters of a given string. Return the n copies of the whole string if the length is less than 2\n",
    "def func(string):\n",
    "    n=4\n",
    "    l=len(string)\n",
    "    #print(l)\n",
    "    if l <=2:\n",
    "        return string\n",
    "    elif l > 2:\n",
    "        first2=string[0:2]\n",
    "       # print(first2)\n",
    "        result = first2*n\n",
    "        return result\n",
    "\n",
    "\n",
    "print(func(\"Hello\"))\n",
    "print(func(\"Hi\"))"
   ]
  },
  {
   "cell_type": "code",
   "execution_count": 21,
   "id": "a046f20c",
   "metadata": {},
   "outputs": [
    {
     "name": "stdout",
     "output_type": "stream",
     "text": [
      "Entered letter is a Vowel\n",
      "Entered letter is not a vowel\n"
     ]
    }
   ],
   "source": [
    "# Write a Python program to test whether a passed letter is a vowel or not.\n",
    "\n",
    "def fun(x):\n",
    "    l=['a','e','i','o','u']\n",
    "    if x in l:\n",
    "        print (\"Entered letter is a Vowel\")\n",
    "    else:\n",
    "        print(\"Entered letter is not a vowel\")\n",
    "fun('a')\n",
    "fun('b')"
   ]
  },
  {
   "cell_type": "code",
   "execution_count": 30,
   "id": "2fe0aa2d",
   "metadata": {},
   "outputs": [
    {
     "name": "stdout",
     "output_type": "stream",
     "text": [
      "True\n",
      "False\n"
     ]
    }
   ],
   "source": [
    "# Write a Python program to check whether a specified value is contained in a group of values\n",
    "# 3 -> [1, 5, 8, 3] : True\n",
    "# -1 -> [1, 5, 8, 3] : False\n",
    "\n",
    "def func(x):\n",
    "    l=[1, 5, 8, 3]\n",
    "    if x in l:\n",
    "        print(\"True\")\n",
    "    else:\n",
    "        print(\"False\")\n",
    "func(3)\n",
    "func(-1)\n",
    "    "
   ]
  },
  {
   "cell_type": "code",
   "execution_count": 34,
   "id": "c2ea747b",
   "metadata": {},
   "outputs": [
    {
     "name": "stdout",
     "output_type": "stream",
     "text": [
      "@@\n",
      "@@@@@@@\n",
      "@@@\n",
      "@@@@@@@@@\n",
      "@@@\n",
      "@@@@@@@\n"
     ]
    }
   ],
   "source": [
    "#Write a Python program to create a histogram from a given list of integers.\n",
    "def func(l):\n",
    "    for i in l:\n",
    "        output=\"\"\n",
    "        times=i\n",
    "        while (times >0):\n",
    "            output=output+\"@\"\n",
    "            times=times-1\n",
    "        print(output)\n",
    "func([2,7,3,9,3,7])"
   ]
  },
  {
   "cell_type": "code",
   "execution_count": 44,
   "id": "281e5050",
   "metadata": {},
   "outputs": [
    {
     "data": {
      "text/plain": [
       "'112356'"
      ]
     },
     "execution_count": 44,
     "metadata": {},
     "output_type": "execute_result"
    }
   ],
   "source": [
    "# Write a Python program to concatenate all elements in a list into a string and return it\n",
    "def func(l):\n",
    "    result=\"\"\n",
    "    for i in l:\n",
    "        \n",
    "        \n",
    "        result=result+str(i)\n",
    "    return result\n",
    "   \n",
    "func([1,12,3,56])"
   ]
  },
  {
   "cell_type": "code",
   "execution_count": 3,
   "id": "cd41ff3b",
   "metadata": {},
   "outputs": [
    {
     "name": "stdout",
     "output_type": "stream",
     "text": [
      "386\n",
      "462\n",
      "418\n",
      "344\n",
      "236\n",
      "566\n",
      "978\n",
      "328\n",
      "162\n",
      "758\n",
      "918\n"
     ]
    }
   ],
   "source": [
    "# Write a Python program to print out all even numbers from a given numbers list in the same order and stop the printing if any numbers that come after 237 in the sequence.\n",
    "numbers = [    \n",
    "    386, 462, 47, 418, 907, 344, 236, 375, 823, 566, 597, 978, 328, 615, 953, 345, \n",
    "    399, 162, 758, 219, 918, 237, 412, 566, 826, 248, 866, 950, 626, 949, 687, 217, \n",
    "    815, 67, 104, 58, 512, 24, 892, 894, 767, 553, 81, 379, 843, 831, 445, 742, 717, \n",
    "    958,743, 527\n",
    "    ]\n",
    "for i in numbers:\n",
    "    if i %2 == 0 :\n",
    "        print(i)\n",
    "    if i==237:\n",
    "        break \n",
    "\n",
    "    \n",
    "    "
   ]
  },
  {
   "cell_type": "code",
   "execution_count": 32,
   "id": "287f1768",
   "metadata": {},
   "outputs": [
    {
     "name": "stdout",
     "output_type": "stream",
     "text": [
      "{'White', 'Black'}\n"
     ]
    }
   ],
   "source": [
    "# Write a Python program to print out a set containing all the colors from color_list_1 which are not present in color_list_2\n",
    "color_list_1 = set([\"White\", \"Black\", \"Red\"])\n",
    "color_list_2 = set([\"Red\", \"Green\"])\n",
    "#Expected Output :\n",
    "#{'Black', 'White'}\n",
    "print(color_list_1.difference(color_list_2))"
   ]
  },
  {
   "cell_type": "code",
   "execution_count": 36,
   "id": "8509d99c",
   "metadata": {},
   "outputs": [
    {
     "name": "stdout",
     "output_type": "stream",
     "text": [
      "3\n"
     ]
    }
   ],
   "source": [
    "# Write a Python program to add two objects if both objects are an integer type\n",
    "def funcadd(a,b):\n",
    "    if type(a)==type(b)==int:\n",
    "        print(a+b)\n",
    "funcadd(1,2)\n",
    "funcadd('2',5)"
   ]
  },
  {
   "cell_type": "code",
   "execution_count": 37,
   "id": "64aaac7b",
   "metadata": {},
   "outputs": [
    {
     "name": "stdout",
     "output_type": "stream",
     "text": [
      "Name: John\n",
      "Age: 45\n",
      " Address: 400 Sowth West st, ABC city, 50023\n"
     ]
    }
   ],
   "source": [
    "# Write a Python program to display your details like name, age, address in three different lines.\n",
    "def func_person():\n",
    "    name,age,address = \"John\",45,\"400 Sowth West st, ABC city, 50023\"\n",
    "    print(\"Name: {}\\nAge: {}\\n Address: {}\".format(name,age,address))\n",
    "\n",
    "func_person()"
   ]
  },
  {
   "cell_type": "code",
   "execution_count": 44,
   "id": "ceb67ab2",
   "metadata": {},
   "outputs": [
    {
     "name": "stdout",
     "output_type": "stream",
     "text": [
      "file: Python_Basic_Practice1.ipynb exists in location: C:\\Users\\vsura\\Jupyter_Workspace\n"
     ]
    }
   ],
   "source": [
    "# Write a Python program to check whether a file exists\n",
    "\n",
    "import os\n",
    "filename='Python_Basic_Practice1.ipynb'\n",
    "dir=os.getcwd()\n",
    "result=os.path.exists(filename)\n",
    "#print(result)\n",
    "if result==True:\n",
    "    print(\"file: {} exists in location: {}\".format(filename,dir))\n"
   ]
  },
  {
   "cell_type": "code",
   "execution_count": 46,
   "id": "69879f1e",
   "metadata": {},
   "outputs": [
    {
     "name": "stdout",
     "output_type": "stream",
     "text": [
      "('64bit', 'WindowsPE')\n",
      "64bit\n"
     ]
    }
   ],
   "source": [
    "# Write a Python program to determine if a Python shell is executing in 32bit or 64bit mode on OS\n",
    "import platform\n",
    "print(platform.architecture())\n",
    "print(platform.architecture()[0])"
   ]
  },
  {
   "cell_type": "code",
   "execution_count": 54,
   "id": "75b8842c",
   "metadata": {},
   "outputs": [
    {
     "name": "stdout",
     "output_type": "stream",
     "text": [
      "10.0.19044\n",
      "AMD64\n",
      "Windows\n",
      "nt\n"
     ]
    }
   ],
   "source": [
    "# Write a Python program to get OS name, platform and release information\n",
    "import platform\n",
    "print(platform.version())\n",
    "print(platform.machine())\n",
    "print(platform.system())\n",
    "print(platform.os.name)"
   ]
  },
  {
   "cell_type": "code",
   "execution_count": 55,
   "id": "afd03e30",
   "metadata": {},
   "outputs": [
    {
     "data": {
      "text/plain": [
       "['C:\\\\ProgramData\\\\Anaconda3',\n",
       " 'C:\\\\ProgramData\\\\Anaconda3\\\\lib\\\\site-packages']"
      ]
     },
     "execution_count": 55,
     "metadata": {},
     "output_type": "execute_result"
    }
   ],
   "source": [
    "#Write a Python program to locate Python site-packages.\n",
    "#site.getsitepackages(): Return a list containing all global site-packages directories.\n",
    "import site\n",
    "site.getsitepackages()"
   ]
  },
  {
   "cell_type": "code",
   "execution_count": 57,
   "id": "319e1501",
   "metadata": {},
   "outputs": [
    {
     "name": "stdout",
     "output_type": "stream",
     "text": [
      "1\n"
     ]
    }
   ],
   "source": [
    "# Write a Python program to call an external command.\n",
    "\n",
    "import os\n",
    "print(os.system('ls -l'))"
   ]
  },
  {
   "cell_type": "code",
   "execution_count": 61,
   "id": "8988872b",
   "metadata": {},
   "outputs": [
    {
     "name": "stdout",
     "output_type": "stream",
     "text": [
      "C:\\Users\\vsura\\Jupyter_Workspace\n",
      "C:\\Users\\vsura\\Jupyter_Workspace\\Python_Basic_Practice1.ipynb\n"
     ]
    }
   ],
   "source": [
    "#Write a python program to get the path and name of the file that is currently executing\n",
    "\n",
    "import os\n",
    "filename='Python_Basic_Practice1.ipynb'\n",
    "print(os.getcwd())\n",
    "print(os.path.realpath(filename))"
   ]
  },
  {
   "cell_type": "code",
   "execution_count": 63,
   "id": "bc95bec0",
   "metadata": {},
   "outputs": [
    {
     "name": "stdout",
     "output_type": "stream",
     "text": [
      "8\n"
     ]
    }
   ],
   "source": [
    "# Write a Python program to find out the number of CPUs using\n",
    "import platform\n",
    "print(platform.os.cpu_count())"
   ]
  },
  {
   "cell_type": "code",
   "execution_count": 67,
   "id": "f8ab939f",
   "metadata": {},
   "outputs": [
    {
     "name": "stdout",
     "output_type": "stream",
     "text": [
      "**********\n",
      "\n"
     ]
    }
   ],
   "source": [
    "# Write a Python program to print without newline or space.\n",
    "for i in range(0,10):\n",
    "    print(\"*\", end=\"\")\n",
    "    \n",
    "print(\"\\n\")\n",
    "    "
   ]
  },
  {
   "cell_type": "code",
   "execution_count": 72,
   "id": "e2e43492",
   "metadata": {},
   "outputs": [
    {
     "name": "stdout",
     "output_type": "stream",
     "text": [
      "Current Directory: C:\\Users\\vsura\\Jupyter_Workspace\n",
      "\n",
      ".ipynb_checkpoints\n",
      "ETL_Coursera_Project-main\n",
      "Python_Basic_Practice1.ipynb\n"
     ]
    }
   ],
   "source": [
    "#Write a Python program to list all files in a directory in Python\n",
    "import os\n",
    "dir=os.getcwd()\n",
    "print(\"Current Directory: {}\\n\".format(dir))\n",
    "for i in os.listdir(dir):\n",
    "    print(i)"
   ]
  },
  {
   "cell_type": "code",
   "execution_count": 81,
   "id": "f0d652e7",
   "metadata": {},
   "outputs": [
    {
     "name": "stdout",
     "output_type": "stream",
     "text": [
      "File Name:  Python_Basic_Practice1.ipynb\n",
      "Current local time:  23:01:11\n",
      "File Modified time:  Wed Dec 28 22:59:46 2022\n",
      "File created time:  Mon Dec 26 22:22:49 2022\n"
     ]
    }
   ],
   "source": [
    "#Write a Python program to get file creation and modification date/times\n",
    "import os , time\n",
    "\n",
    "filename='Python_Basic_Practice1.ipynb'\n",
    "print(\"File Name: \",filename)\n",
    "print(\"Current local time: \",time.strftime(\"%H:%M:%S\",time.localtime()))\n",
    "print(\"File Modified time: \",time.ctime(os.path.getmtime(filename)))\n",
    "print(\"File created time: \",time.ctime(os.path.getctime(filename)))"
   ]
  },
  {
   "cell_type": "code",
   "execution_count": 88,
   "id": "28d1696a",
   "metadata": {},
   "outputs": [
    {
     "name": "stdout",
     "output_type": "stream",
     "text": [
      "30\n"
     ]
    }
   ],
   "source": [
    "# Write a Python program to find largest int.\n",
    "l=[30,13,24,5]\n",
    "temp=0\n",
    "l_sort=[]\n",
    "for i in l:\n",
    "    if i >temp:\n",
    "        temp=i\n",
    "print(temp)"
   ]
  },
  {
   "cell_type": "code",
   "execution_count": null,
   "id": "158389f0",
   "metadata": {},
   "outputs": [],
   "source": [
    "# Write a Python program to sort three integers without using conditional statements and loops."
   ]
  },
  {
   "cell_type": "code",
   "execution_count": 89,
   "id": "a4b95c81",
   "metadata": {},
   "outputs": [
    {
     "name": "stdout",
     "output_type": "stream",
     "text": [
      "Before Swap \n",
      "a: 5 , b: 8\n",
      "After Swap \n",
      "a: 8 , b: 5\n"
     ]
    }
   ],
   "source": [
    "# Write a Python program to swap two variables.\n",
    "a=int(5)\n",
    "b=int(8)\n",
    "\n",
    "temp=0\n",
    "print(\"Before Swap \\na: {} , b: {}\".format(a,b))\n",
    "temp=a\n",
    "a=b\n",
    "b=temp\n",
    "print(\"After Swap \\na: {} , b: {}\".format(a,b))"
   ]
  },
  {
   "cell_type": "code",
   "execution_count": 90,
   "id": "a50614cd",
   "metadata": {},
   "outputs": [
    {
     "name": "stdout",
     "output_type": "stream",
     "text": [
      "System time:  Wed Dec 28 23:18:14 2022\n"
     ]
    }
   ],
   "source": [
    "#Write a Python program to get the system time\n",
    "import time\n",
    "print(\"System time: \", time.ctime())"
   ]
  }
 ],
 "metadata": {
  "kernelspec": {
   "display_name": "Python 3 (ipykernel)",
   "language": "python",
   "name": "python3"
  },
  "language_info": {
   "codemirror_mode": {
    "name": "ipython",
    "version": 3
   },
   "file_extension": ".py",
   "mimetype": "text/x-python",
   "name": "python",
   "nbconvert_exporter": "python",
   "pygments_lexer": "ipython3",
   "version": "3.9.13"
  }
 },
 "nbformat": 4,
 "nbformat_minor": 5
}
