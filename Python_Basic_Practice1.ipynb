{
 "cells": [
  {
   "cell_type": "code",
   "execution_count": 3,
   "id": "ad4f379d",
   "metadata": {},
   "outputs": [
    {
     "data": {
      "text/plain": [
       "'C:\\\\Users\\\\vsura\\\\Jupyter_Workspace'"
      ]
     },
     "execution_count": 3,
     "metadata": {},
     "output_type": "execute_result"
    }
   ],
   "source": [
    "#Get current directory\n",
    "import os\n",
    "os.getcwd()"
   ]
  },
  {
   "cell_type": "code",
   "execution_count": 5,
   "id": "553c96bb",
   "metadata": {},
   "outputs": [
    {
     "data": {
      "text/plain": [
       "sys.version_info(major=3, minor=9, micro=13, releaselevel='final', serial=0)"
      ]
     },
     "execution_count": 5,
     "metadata": {},
     "output_type": "execute_result"
    }
   ],
   "source": [
    "#Get Version details\n",
    "import sys\n",
    "sys.version\n",
    "sys.version_info"
   ]
  },
  {
   "cell_type": "code",
   "execution_count": 6,
   "id": "d40ccded",
   "metadata": {},
   "outputs": [
    {
     "data": {
      "text/plain": [
       "'3.9.13'"
      ]
     },
     "execution_count": 6,
     "metadata": {},
     "output_type": "execute_result"
    }
   ],
   "source": [
    "#Get version details\n",
    "import platform\n",
    "platform.python_version()"
   ]
  },
  {
   "cell_type": "code",
   "execution_count": 11,
   "id": "2c32ecc0",
   "metadata": {},
   "outputs": [
    {
     "data": {
      "text/plain": [
       "'2022-12-26 22:47:18'"
      ]
     },
     "execution_count": 11,
     "metadata": {},
     "output_type": "execute_result"
    }
   ],
   "source": [
    "#Print current datetime\n",
    "import datetime\n",
    "x=datetime.datetime.now()\n",
    "x.strftime(\"%Y-%m-%d %H:%M:%S\")"
   ]
  },
  {
   "cell_type": "code",
   "execution_count": 19,
   "id": "143caf7a",
   "metadata": {},
   "outputs": [
    {
     "name": "stdout",
     "output_type": "stream",
     "text": [
      "Enter user firstname: firstname\n",
      "Enter user Last Name: lastname\n",
      "<class 'str'> <class 'str'>\n",
      "Users First name & Last name in reverse:  emantsrif   emantsal\n"
     ]
    }
   ],
   "source": [
    "# Accept user FIRSTNAME and LASTName and print in reverse order\n",
    "fname=input(\"Enter user firstname: \")\n",
    "lname=input (\"Enter user Last Name: \")\n",
    "\n",
    "print(type(fname),type(lname))\n",
    "print(\"Users First name & Last name in reverse: \",fname[::-1],\" \", lname[::-1])\n"
   ]
  },
  {
   "cell_type": "code",
   "execution_count": 21,
   "id": "3b2c5366",
   "metadata": {},
   "outputs": [
    {
     "name": "stdout",
     "output_type": "stream",
     "text": [
      "enter numbers with comma seperated: 12,23,34,45,56\n",
      "<class 'str'>\n",
      "['12', '23', '34', '45', '56']\n",
      "('12', '23', '34', '45', '56')\n"
     ]
    }
   ],
   "source": [
    "# Accept comma seperated numbers and disply as LIST / TUPLE\n",
    "string=input(\"enter numbers with comma seperated: \")\n",
    "print(type(string))\n",
    "\n",
    "l=list(string.split(\",\"))\n",
    "print(l)\n",
    "t=tuple(string.rsplit(\",\"))\n",
    "print(t)"
   ]
  },
  {
   "cell_type": "code",
   "execution_count": 29,
   "id": "3dd49c3a",
   "metadata": {},
   "outputs": [
    {
     "name": "stdout",
     "output_type": "stream",
     "text": [
      "Enter file name with extention: file.java\n",
      "file name extension:  java\n"
     ]
    }
   ],
   "source": [
    "#Accept file name from the user and print the extention of the input file name\n",
    "fname=input(\"Enter file name with extention: \")\n",
    "print(\"file name extension: \", fname[fname.index(\".\")+1:])"
   ]
  },
  {
   "cell_type": "code",
   "execution_count": 31,
   "id": "05383a68",
   "metadata": {},
   "outputs": [
    {
     "name": "stdout",
     "output_type": "stream",
     "text": [
      "First element:  Red \n",
      " Last element:  Black\n"
     ]
    }
   ],
   "source": [
    "# display the first and last colors from the following list\n",
    "color_list = [\"Red\",\"Green\",\"White\" ,\"Black\"]\n",
    "#print(len(color_list))\n",
    "print(\"First element: \",color_list[0], \"\\n Last element: \",color_list[len(color_list)-1])\n",
    "\n"
   ]
  },
  {
   "cell_type": "code",
   "execution_count": 34,
   "id": "ee857094",
   "metadata": {},
   "outputs": [
    {
     "name": "stdout",
     "output_type": "stream",
     "text": [
      "<class 'tuple'>\n",
      "Examination Schedule: 11 / 12 / 2014\n"
     ]
    }
   ],
   "source": [
    "# Write a Python program to display the examination schedule. (extract the date from exam_st_date)\n",
    "exam_st_date = (11, 12, 2014)\n",
    "print(type(exam_st_date))\n",
    "print(\"Examination Schedule: %i / %i / %i\"%exam_st_date)\n"
   ]
  },
  {
   "cell_type": "code",
   "execution_count": 36,
   "id": "218a07c3",
   "metadata": {},
   "outputs": [
    {
     "name": "stdout",
     "output_type": "stream",
     "text": [
      "Result=  615\n"
     ]
    }
   ],
   "source": [
    "#Write a Python program that accepts an integer (n) and computes the value of n+nn+nnn\n",
    "n=5\n",
    "n1=int(\"%i\"%n)\n",
    "n2=int(\"%i%i\"%(n,n))\n",
    "n3=int(\"%i%i%i\"%(n,n,n))\n",
    "print(\"Result= \",n1+n2+n3)\n",
    "\n"
   ]
  },
  {
   "cell_type": "code",
   "execution_count": 38,
   "id": "a2bd360a",
   "metadata": {},
   "outputs": [
    {
     "name": "stdout",
     "output_type": "stream",
     "text": [
      "Return the absolute value of the argument.\n"
     ]
    }
   ],
   "source": [
    "# Write a Python program to print the documents (syntax, description etc.) of Python built-in function(s).\n",
    "print(abs.__doc__)"
   ]
  },
  {
   "cell_type": "code",
   "execution_count": 43,
   "id": "2bfb74d5",
   "metadata": {},
   "outputs": [
    {
     "name": "stdout",
     "output_type": "stream",
     "text": [
      "   December 2022\n",
      "Mo Tu We Th Fr Sa Su\n",
      "          1  2  3  4\n",
      " 5  6  7  8  9 10 11\n",
      "12 13 14 15 16 17 18\n",
      "19 20 21 22 23 24 25\n",
      "26 27 28 29 30 31\n",
      "\n"
     ]
    }
   ],
   "source": [
    "# Get calander of a month\n",
    "import calendar\n",
    "a=calendar.month(2022,12)\n",
    "print(a)\n"
   ]
  }
 ],
 "metadata": {
  "kernelspec": {
   "display_name": "Python 3 (ipykernel)",
   "language": "python",
   "name": "python3"
  },
  "language_info": {
   "codemirror_mode": {
    "name": "ipython",
    "version": 3
   },
   "file_extension": ".py",
   "mimetype": "text/x-python",
   "name": "python",
   "nbconvert_exporter": "python",
   "pygments_lexer": "ipython3",
   "version": "3.9.13"
  }
 },
 "nbformat": 4,
 "nbformat_minor": 5
}
